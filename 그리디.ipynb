{
 "cells": [
  {
   "cell_type": "code",
   "execution_count": 1,
   "id": "a7dd9f33",
   "metadata": {},
   "outputs": [
    {
     "data": {
      "text/plain": [
       "' \\n그리디는 현재 상황에서 가장 좋은 것만 고르는 방법을 의미한다.\\n'"
      ]
     },
     "execution_count": 1,
     "metadata": {},
     "output_type": "execute_result"
    }
   ],
   "source": [
    "\"\"\" \n",
    "그리디는 현재 상황에서 가장 좋은 것만 고르는 방법을 의미한다.\n",
    "\"\"\""
   ]
  },
  {
   "cell_type": "code",
   "execution_count": 2,
   "id": "aaf278a4",
   "metadata": {},
   "outputs": [
    {
     "data": {
      "text/plain": [
       "' \\n예제 1 거스름돈 \\n나는 음식점의 계산을 도와주는 점원이다. 카운터에는 500원, 100원, 50원 10원짜리 동전이 있다 손님에게 거슬러 줘야 할 돈이 N원일 때 \\n거슬러 줘야 할 동전의 최소의 개수를 구하라. 단, 거슬러 줘야 할 돈은 항상 N은 항상 10의 배수이다.\\n\\n거슬러 줘야할 돈 1260\\n'"
      ]
     },
     "execution_count": 2,
     "metadata": {},
     "output_type": "execute_result"
    }
   ],
   "source": [
    "\"\"\" \n",
    "예제 1 거스름돈 \n",
    "나는 음식점의 계산을 도와주는 점원이다. 카운터에는 500원, 100원, 50원 10원짜리 동전이 있다 손님에게 거슬러 줘야 할 돈이 N원일 때 \n",
    "거슬러 줘야 할 동전의 최소의 개수를 구하라. 단, 거슬러 줘야 할 돈은 항상 N은 항상 10의 배수이다.\n",
    "\n",
    "거슬러 줘야할 돈 1260\n",
    "\"\"\""
   ]
  },
  {
   "cell_type": "code",
   "execution_count": 3,
   "id": "3002cfec",
   "metadata": {},
   "outputs": [
    {
     "name": "stdout",
     "output_type": "stream",
     "text": [
      "6\n"
     ]
    }
   ],
   "source": [
    "n = 1260\n",
    "count = 0\n",
    "\n",
    "coin_types = [500, 100, 50, 10]\n",
    "\n",
    "\n",
    "for coin in coin_types:\n",
    "    count += n // coin\n",
    "    n %= coin\n",
    "\n",
    "print(count)"
   ]
  },
  {
   "cell_type": "code",
   "execution_count": null,
   "id": "2dcaa31e",
   "metadata": {},
   "outputs": [],
   "source": []
  }
 ],
 "metadata": {
  "kernelspec": {
   "display_name": "Python 3 (ipykernel)",
   "language": "python",
   "name": "python3"
  },
  "language_info": {
   "codemirror_mode": {
    "name": "ipython",
    "version": 3
   },
   "file_extension": ".py",
   "mimetype": "text/x-python",
   "name": "python",
   "nbconvert_exporter": "python",
   "pygments_lexer": "ipython3",
   "version": "3.9.12"
  }
 },
 "nbformat": 4,
 "nbformat_minor": 5
}
